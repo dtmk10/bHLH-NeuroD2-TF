{
 "cells": [
  {
   "cell_type": "markdown",
   "id": "6c43b013",
   "metadata": {},
   "source": [
    "## BLAST analysis\n",
    "\n",
    "1. Set your working directory to the folder, which contains NeurD2_aaseq.fa file (the protein sequence of NeuroD2 gene).\n"
   ]
  },
  {
   "cell_type": "code",
   "execution_count": 5,
   "id": "017bd383",
   "metadata": {},
   "outputs": [
    {
     "name": "stdout",
     "output_type": "stream",
     "text": [
      ">sp|Q15784|NDF2_HUMAN Neurogenic differentiation factor 2 OS=Homo sapiens OX=9606 GN=NEUROD2 PE=1 SV=2\n",
      "MLTRLFSEPGLLSDVPKFASWGDGEDDEPRSDKGDAPPPPPPAPGPGAPGPARAAKPVPL\n",
      "RGEEGTEATLAEVKEEGELGGEEEEEEEEEEGLDEAEGERPKKRGPKKRKMTKARLERSK\n",
      "LRRQKANARERNRMHDLNAALDNLRKVVPCYSKTQKLSKIETLRLAKNYIWALSEILRSG\n",
      "KRPDLVSYVQTLCKGLSQPTTNLVAGCLQLNSRNFLTEQGADGAGRFHGSGGPFAMHPYP\n",
      "YPCSRLAGAQCQAAGGLGGGAAHALRTHGYCAAYETLYAAAGGGGASPDYNSSEYEGPLS\n",
      "PPLCLNGNFSLKQDSSPDHEKSYHYSMHYSALPGSRPTGHGLVFGSSAVRGGVHSENLLS\n",
      "YDMHLHHDRGPMYEELNAFFHN\n",
      "\n"
     ]
    }
   ],
   "source": [
    "with open('./fasta_files/NeurD2_aaseq.fa') as f:\n",
    "    seq = f.read()\n",
    "print(seq)"
   ]
  },
  {
   "cell_type": "code",
   "execution_count": null,
   "id": "3377bb85",
   "metadata": {},
   "outputs": [],
   "source": []
  },
  {
   "cell_type": "code",
   "execution_count": null,
   "id": "b577b824",
   "metadata": {},
   "outputs": [],
   "source": []
  }
 ],
 "metadata": {
  "kernelspec": {
   "display_name": "Tensorflow",
   "language": "python",
   "name": "python3"
  },
  "language_info": {
   "codemirror_mode": {
    "name": "ipython",
    "version": 3
   },
   "file_extension": ".py",
   "mimetype": "text/x-python",
   "name": "python",
   "nbconvert_exporter": "python",
   "pygments_lexer": "ipython3",
   "version": "3.10.18"
  }
 },
 "nbformat": 4,
 "nbformat_minor": 5
}
