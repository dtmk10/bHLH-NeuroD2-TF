{
 "cells": [
  {
   "cell_type": "markdown",
   "id": "6c43b013",
   "metadata": {},
   "source": [
    "# Project 101"
   ]
  },
  {
   "cell_type": "code",
   "execution_count": null,
   "id": "3377bb85",
   "metadata": {},
   "outputs": [],
   "source": []
  }
 ],
 "metadata": {
  "language_info": {
   "name": "python"
  }
 },
 "nbformat": 4,
 "nbformat_minor": 5
}
